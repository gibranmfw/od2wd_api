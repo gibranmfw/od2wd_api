{
 "cells": [
  {
   "cell_type": "code",
   "execution_count": 85,
   "metadata": {},
   "outputs": [
    {
     "name": "stdout",
     "output_type": "stream",
     "text": [
      "@prefix rdf: <http://www.w3.org/1999/02/22-rdf-syntax-ns#> .\n",
      "@prefix rdfs: <http://www.w3.org/2000/01/rdf-schema#> .\n",
      "@prefix xsd: <http://www.w3.org/2001/XMLSchema#> .\n",
      "@prefix nif: <http://persistence.uni-leipzig.org/nlp2rdf/ontologies/nif-core#> .\n",
      "@prefix itsrdf: <http://www.w3.org/2005/11/its/rdf#> .\n",
      "\n",
      "<http://www.od2wd.id/evaluate/sentence-1>\n",
      " a nif:RFC5147String , nif:String , nif:Context ;\n",
      " nif:isString \"Data Sekolah Rawan Banjir di Jakarta\"@id .\n",
      "\n",
      "@prefix itsrdf: <http://www.w3.org/2005/11/its/rdf#> .\n",
      "@prefix nif: <http://persistence.uni-leipzig.org/nlp2rdf/ontologies/nif-core#> .\n",
      "@prefix xsd: <http://www.w3.org/2001/XMLSchema#> .\n",
      "\n",
      "<http://www.od2wd.id/evaluate/sentence-1#offset_29_36> a nif:OffsetBasedString,\n",
      "        nif:Phrase ;\n",
      "    nif:anchorOf \"Jakarta\" ;\n",
      "    nif:beginIndex \"29\"^^xsd:nonNegativeInteger ;\n",
      "    nif:endIndex \"36\"^^xsd:nonNegativeInteger ;\n",
      "    nif:referenceContext <http://www.od2wd.id/evaluate/sentence-1> ;\n",
      "    itsrdf:taIdentRef <http://www.wikidata.org/entity/Q3630> .\n",
      "\n",
      "<http://www.od2wd.id/evaluate/sentence-1> a nif:Context,\n",
      "        nif:OffsetBasedString ;\n",
      "    nif:beginIndex \"None\"^^xsd:nonNegativeInteger ;\n",
      "    nif:endIndex \"None\"^^xsd:nonNegativeInteger ;\n",
      "    nif:isString \"Data Sekolah Rawan Banjir di Jakarta\" .\n",
      "\n",
      "\n"
     ]
    }
   ],
   "source": [
    "import requests\n",
    "\n",
    "url = 'https://opentapioca.org/api/nif'\n",
    "headers = {\n",
    "    'Content-Type': 'application/x-turtle'\n",
    "}\n",
    "\n",
    "userInput = \"Data Sekolah Rawan Banjir di Jakarta\"\n",
    "payload = (\n",
    "    \"@prefix rdf: <http://www.w3.org/1999/02/22-rdf-syntax-ns#> .\\r\\n\"\n",
    "    \"@prefix rdfs: <http://www.w3.org/2000/01/rdf-schema#> .\\r\\n\"\n",
    "    \"@prefix xsd: <http://www.w3.org/2001/XMLSchema#> .\\r\\n\"\n",
    "    \"@prefix nif: <http://persistence.uni-leipzig.org/nlp2rdf/ontologies/nif-core#> .\\r\\n\"\n",
    "    \"@prefix itsrdf: <http://www.w3.org/2005/11/its/rdf#> .\\r\\n\\r\\n\"\n",
    "    \"<http://www.od2wd.id/evaluate/sentence-1>\\r\\n\"\n",
    "    \" a nif:RFC5147String , nif:String , nif:Context ;\\r\\n\"\n",
    "    \" nif:isString \\\"\" + userInput + \"\\\"@id .\"\n",
    ")\n",
    "print(payload)\n",
    "print()\n",
    "response = requests.post(url, headers=headers, data=payload)\n",
    "\n",
    "print(response.text)"
   ]
  },
  {
   "cell_type": "code",
   "execution_count": 86,
   "metadata": {},
   "outputs": [
    {
     "name": "stdout",
     "output_type": "stream",
     "text": [
      "http://www.od2wd.id/evaluate/sentence-1#offset_29_36 http://www.w3.org/1999/02/22-rdf-syntax-ns#type http://persistence.uni-leipzig.org/nlp2rdf/ontologies/nif-core#Phrase\n",
      "http://www.od2wd.id/evaluate/sentence-1#offset_29_36 http://persistence.uni-leipzig.org/nlp2rdf/ontologies/nif-core#anchorOf Jakarta\n",
      "file:///D:/Fasilkom015/skripsi/api/test http://persistence.uni-leipzig.org/nlp2rdf/ontologies/nif-core#beginIndex 0\n",
      "http://www.od2wd.id/evaluate/sentence-1 http://www.w3.org/1999/02/22-rdf-syntax-ns#type http://persistence.uni-leipzig.org/nlp2rdf/ontologies/nif-core#OffsetBasedString\n",
      "http://www.od2wd.id/evaluate/sentence-1 http://www.w3.org/1999/02/22-rdf-syntax-ns#type http://persistence.uni-leipzig.org/nlp2rdf/ontologies/nif-core#Context\n",
      "http://www.od2wd.id/evaluate/sentence-1 http://persistence.uni-leipzig.org/nlp2rdf/ontologies/nif-core#endIndex 45\n",
      "http://www.od2wd.id/evaluate/sentence-1#offset_29_36 http://persistence.uni-leipzig.org/nlp2rdf/ontologies/nif-core#beginIndex 29\n",
      "http://www.od2wd.id/evaluate/sentence-1 http://persistence.uni-leipzig.org/nlp2rdf/ontologies/nif-core#endIndex None\n",
      "http://www.od2wd.id/evaluate/sentence-1 http://persistence.uni-leipzig.org/nlp2rdf/ontologies/nif-core#beginIndex 0\n",
      "http://www.od2wd.id/evaluate/sentence-1#offset_30_37 http://persistence.uni-leipzig.org/nlp2rdf/ontologies/nif-core#beginIndex 30\n",
      "http://www.od2wd.id/evaluate/sentence-1#offset_29_36 http://www.w3.org/1999/02/22-rdf-syntax-ns#type http://persistence.uni-leipzig.org/nlp2rdf/ontologies/nif-core#OffsetBasedString\n",
      "http://www.od2wd.id/evaluate/sentence-1#offset_29_36 http://persistence.uni-leipzig.org/nlp2rdf/ontologies/nif-core#referenceContext http://www.od2wd.id/evaluate/sentence-1\n",
      "http://www.od2wd.id/evaluate/sentence-1 http://persistence.uni-leipzig.org/nlp2rdf/ontologies/nif-core#isString Data Sekolah Rawan Banjir di Jakarta\n",
      "file:///D:/Fasilkom015/skripsi/api/test http://persistence.uni-leipzig.org/nlp2rdf/ontologies/nif-core#isString Data Pemenang Lomba Hari Anak Jakarta Membaca\n",
      "http://www.od2wd.id/evaluate/sentence-1#offset_29_36 http://persistence.uni-leipzig.org/nlp2rdf/ontologies/nif-core#endIndex 36\n",
      "http://www.od2wd.id/evaluate/sentence-1#offset_30_37 http://www.w3.org/2005/11/its/rdf#taIdentRef http://www.wikidata.org/entity/Q3630\n",
      "http://www.od2wd.id/evaluate/sentence-1#offset_30_37 http://www.w3.org/1999/02/22-rdf-syntax-ns#type http://persistence.uni-leipzig.org/nlp2rdf/ontologies/nif-core#OffsetBasedString\n",
      "http://www.od2wd.id/evaluate/sentence-1 http://persistence.uni-leipzig.org/nlp2rdf/ontologies/nif-core#beginIndex None\n",
      "http://www.od2wd.id/evaluate/sentence-1#offset_30_37 http://persistence.uni-leipzig.org/nlp2rdf/ontologies/nif-core#anchorOf Jakarta\n",
      "http://www.od2wd.id/evaluate/sentence-1 http://persistence.uni-leipzig.org/nlp2rdf/ontologies/nif-core#isString Data Pemenang Lomba Hari Anak Jakarta Membaca\n",
      "file:///D:/Fasilkom015/skripsi/api/test http://www.w3.org/1999/02/22-rdf-syntax-ns#type http://persistence.uni-leipzig.org/nlp2rdf/ontologies/nif-core#RFC5147String\n",
      "http://www.od2wd.id/evaluate/sentence-1#offset_29_36 http://www.w3.org/2005/11/its/rdf#taIdentRef http://www.wikidata.org/entity/Q3630\n",
      "file:///D:/Fasilkom015/skripsi/api/test http://persistence.uni-leipzig.org/nlp2rdf/ontologies/nif-core#endIndex 45\n",
      "http://www.od2wd.id/evaluate/sentence-1#offset_30_37 http://persistence.uni-leipzig.org/nlp2rdf/ontologies/nif-core#referenceContext http://www.od2wd.id/evaluate/sentence-1\n",
      "http://www.od2wd.id/evaluate/sentence-1#offset_30_37 http://persistence.uni-leipzig.org/nlp2rdf/ontologies/nif-core#endIndex 37\n",
      "file:///D:/Fasilkom015/skripsi/api/test http://www.w3.org/1999/02/22-rdf-syntax-ns#type http://persistence.uni-leipzig.org/nlp2rdf/ontologies/nif-core#Context\n",
      "http://www.od2wd.id/evaluate/sentence-1#offset_30_37 http://www.w3.org/1999/02/22-rdf-syntax-ns#type http://persistence.uni-leipzig.org/nlp2rdf/ontologies/nif-core#Phrase\n",
      "file:///D:/Fasilkom015/skripsi/api/test http://www.w3.org/1999/02/22-rdf-syntax-ns#type http://persistence.uni-leipzig.org/nlp2rdf/ontologies/nif-core#String\n",
      "Jakarta\n"
     ]
    }
   ],
   "source": [
    "result = g.parse(data=response.text, format='turtle')\n",
    "res = \"\"\n",
    "for s, p, o in result:\n",
    "    if (\"anchorOf\" in p):\n",
    "        res = o.toPython()\n",
    "    print(s, p, o)\n",
    "print(res)"
   ]
  }
 ],
 "metadata": {
  "kernelspec": {
   "display_name": "Python 3.7.1 64-bit ('base': conda)",
   "language": "python",
   "name": "python37164bitbasecondaa39252c38c9744f6afd16809fb704da5"
  },
  "language_info": {
   "codemirror_mode": {
    "name": "ipython",
    "version": 3
   },
   "file_extension": ".py",
   "mimetype": "text/x-python",
   "name": "python",
   "nbconvert_exporter": "python",
   "pygments_lexer": "ipython3",
   "version": "3.7.1"
  }
 },
 "nbformat": 4,
 "nbformat_minor": 2
}
