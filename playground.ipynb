{
 "cells": [
  {
   "cell_type": "markdown",
   "metadata": {},
   "source": [
    "<h1>OD2WD API PLAYGROUND</h1>\n",
    "<br>(Used this if you want to play with our API 😃)"
   ]
  },
  {
   "cell_type": "markdown",
   "metadata": {},
   "source": [
    "❧  Import Packages"
   ]
  },
  {
   "cell_type": "code",
   "execution_count": 17,
   "metadata": {},
   "outputs": [],
   "source": [
    "from gensim.models import Word2Vec\n",
    "from elasticsearch import Elasticsearch"
   ]
  },
  {
   "cell_type": "markdown",
   "metadata": {},
   "source": [
    "❧  CONSTANT"
   ]
  },
  {
   "cell_type": "code",
   "execution_count": 14,
   "metadata": {},
   "outputs": [],
   "source": [
    "MODEL_PATH = \"data/model/\"\n",
    "MODEL_NAME=\"w2vec_wiki_id_case\"\n",
    "INDEX_HOST=\"localhost\"\n",
    "INDEX_PORT=9200"
   ]
  },
  {
   "cell_type": "markdown",
   "metadata": {},
   "source": [
    "❧  Setup"
   ]
  },
  {
   "cell_type": "code",
   "execution_count": 15,
   "metadata": {},
   "outputs": [],
   "source": [
    "def connect_elasticsearch():\n",
    "    _es = None\n",
    "    _es = Elasticsearch([{'host': INDEX_HOST, 'port': INDEX_PORT}])\n",
    "    if _es.ping():\n",
    "        print('Connected to ES Service')\n",
    "    else:\n",
    "        print('Could not connect to ES Service')\n",
    "    return _es"
   ]
  },
  {
   "cell_type": "markdown",
   "metadata": {},
   "source": [
    "❧  Init Model"
   ]
  },
  {
   "cell_type": "code",
   "execution_count": 21,
   "metadata": {},
   "outputs": [
    {
     "name": "stdout",
     "output_type": "stream",
     "text": [
      "Connected to ES Service\n"
     ]
    }
   ],
   "source": [
    "class Model(object):\n",
    "    def __init__(self):\n",
    "        self.load_model()\n",
    "        self.load_index()\n",
    "\n",
    "    def load_index(self):\n",
    "        self.es = connect_elasticsearch()\n",
    "\n",
    "    def load_model(self):\n",
    "        self.w2v_model = Word2Vec.load(MODEL_PATH + MODEL_NAME)\n",
    "\n",
    "model = Model()"
   ]
  },
  {
   "cell_type": "markdown",
   "metadata": {},
   "source": [
    "❧  Playgrounds"
   ]
  },
  {
   "cell_type": "code",
   "execution_count": 54,
   "metadata": {},
   "outputs": [],
   "source": [
    "import requests\n",
    "import json\n",
    "import urllib\n",
    "from SPARQLWrapper import SPARQLWrapper, JSON\n",
    "\n",
    "def searchEntity(keyword, limit):\n",
    "    keyword = urllib.parse.quote(keyword)\n",
    "    url = \"https://www.wikidata.org/w/api.php?action=wbsearchentities&search={}&limit={}&language=id&format=json\".format(keyword,limit)\n",
    "    res = requests.get(url)\n",
    "    return json.loads(res.text)"
   ]
  },
  {
   "cell_type": "code",
   "execution_count": 56,
   "metadata": {},
   "outputs": [
    {
     "data": {
      "text/plain": [
       "{'search': [], 'searchinfo': {'search': 'kedongdong+OR+buah'}, 'success': 1}"
      ]
     },
     "execution_count": 56,
     "metadata": {},
     "output_type": "execute_result"
    }
   ],
   "source": [
    "searchEntity('kedongdong+OR+buah', 10)"
   ]
  }
 ],
 "metadata": {
  "kernelspec": {
   "display_name": "Python 3",
   "language": "python",
   "name": "python3"
  },
  "language_info": {
   "codemirror_mode": {
    "name": "ipython",
    "version": 3
   },
   "file_extension": ".py",
   "mimetype": "text/x-python",
   "name": "python",
   "nbconvert_exporter": "python",
   "pygments_lexer": "ipython3",
   "version": "3.7.1"
  }
 },
 "nbformat": 4,
 "nbformat_minor": 2
}
